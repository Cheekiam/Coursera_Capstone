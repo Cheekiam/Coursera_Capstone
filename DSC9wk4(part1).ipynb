{
 "cells": [
  {
   "cell_type": "markdown",
   "metadata": {},
   "source": [
    "### Part 1 of Week4 Capstone Project\n",
    "\n",
    "#### Introduction/Business Problem:\n",
    "\n",
    "An investor is looking for a site in Toronto to open a new Chinese Restaurant\n",
    "and seek advice on the best possible location with a provision that it cannot be\n",
    "in Chinatown.\n",
    "\n",
    "My aim is to provide the best possible solution based on on the location data\n",
    "I obtained from calling Foursquare via the API.\n",
    "Using that data and also referencing the folium map will enable to make a good recommendation."
   ]
  }
 ],
 "metadata": {
  "kernelspec": {
   "display_name": "Python 3",
   "language": "python",
   "name": "python3"
  },
  "language_info": {
   "codemirror_mode": {
    "name": "ipython",
    "version": 3
   },
   "file_extension": ".py",
   "mimetype": "text/x-python",
   "name": "python",
   "nbconvert_exporter": "python",
   "pygments_lexer": "ipython3",
   "version": "3.7.1"
  }
 },
 "nbformat": 4,
 "nbformat_minor": 2
}
